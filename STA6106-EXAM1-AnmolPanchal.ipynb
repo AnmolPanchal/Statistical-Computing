{
 "cells": [
  {
   "cell_type": "markdown",
   "metadata": {},
   "source": [
    "# Question 1 - Bootstrap, Jackknife, Confidence Interval"
   ]
  },
  {
   "cell_type": "code",
   "execution_count": 12,
   "metadata": {},
   "outputs": [],
   "source": [
    "import pandas as pd\n",
    "import numpy as np\n",
    "import math\n",
    "from sklearn.metrics import f1_score\n",
    "from sklearn.model_selection import train_test_split\n",
    "import matplotlib as mp\n",
    "import matplotlib.pyplot as plt\n",
    "from sklearn.tree import DecisionTreeRegressor\n",
    "from sklearn.model_selection import train_test_split\n",
    "from sklearn.metrics import mean_absolute_error\n",
    "import scipy.stats"
   ]
  },
  {
   "cell_type": "code",
   "execution_count": 13,
   "metadata": {},
   "outputs": [],
   "source": [
    "\n",
    "data = pd.read_csv(r\"C:\\Users\\anmol\\Downloads\\mtcars.csv\")\n",
    "## r before your normal string helps it to convert normal string to raw string "
   ]
  },
  {
   "cell_type": "code",
   "execution_count": 14,
   "metadata": {},
   "outputs": [
    {
     "name": "stdout",
     "output_type": "stream",
     "text": [
      "[['Mazda RX4' 21.0]\n",
      " ['Mazda RX4 Wag' 21.0]\n",
      " ['Datsun 710' 22.8]\n",
      " ['Hornet 4 Drive' 21.4]\n",
      " ['Hornet Sportabout' 18.7]\n",
      " ['Valiant' 18.1]\n",
      " ['Duster 360' 14.3]\n",
      " ['Merc 240D' 24.4]\n",
      " ['Merc 230' 22.8]\n",
      " ['Merc 280' 19.2]\n",
      " ['Merc 280C' 17.8]\n",
      " ['Merc 450SE' 16.4]\n",
      " ['Merc 450SL' 17.3]\n",
      " ['Merc 450SLC' 15.2]\n",
      " ['Cadillac Fleetwood' 10.4]\n",
      " ['Lincoln Continental' 10.4]\n",
      " ['Chrysler Imperial' 14.7]\n",
      " ['Fiat 128' 32.4]\n",
      " ['Honda Civic' 30.4]\n",
      " ['Toyota Corolla' 33.9]\n",
      " ['Toyota Corona' 21.5]\n",
      " ['Dodge Challenger' 15.5]\n",
      " ['AMC Javelin' 15.2]\n",
      " ['Camaro Z28' 13.3]\n",
      " ['Pontiac Firebird' 19.2]\n",
      " ['Fiat X1-9' 27.3]\n",
      " ['Porsche 914-2' 26.0]\n",
      " ['Lotus Europa' 30.4]\n",
      " ['Ford Pantera L' 15.8]\n",
      " ['Ferrari Dino' 19.7]\n",
      " ['Maserati Bora' 15.0]\n",
      " ['Volvo 142E' 21.4]]\n"
     ]
    },
    {
     "data": {
      "text/html": [
       "<div>\n",
       "<style scoped>\n",
       "    .dataframe tbody tr th:only-of-type {\n",
       "        vertical-align: middle;\n",
       "    }\n",
       "\n",
       "    .dataframe tbody tr th {\n",
       "        vertical-align: top;\n",
       "    }\n",
       "\n",
       "    .dataframe thead th {\n",
       "        text-align: right;\n",
       "    }\n",
       "</style>\n",
       "<table border=\"1\" class=\"dataframe\">\n",
       "  <thead>\n",
       "    <tr style=\"text-align: right;\">\n",
       "      <th></th>\n",
       "      <th>mpg</th>\n",
       "    </tr>\n",
       "  </thead>\n",
       "  <tbody>\n",
       "    <tr>\n",
       "      <th>count</th>\n",
       "      <td>32.000000</td>\n",
       "    </tr>\n",
       "    <tr>\n",
       "      <th>mean</th>\n",
       "      <td>20.090625</td>\n",
       "    </tr>\n",
       "    <tr>\n",
       "      <th>std</th>\n",
       "      <td>6.026948</td>\n",
       "    </tr>\n",
       "    <tr>\n",
       "      <th>min</th>\n",
       "      <td>10.400000</td>\n",
       "    </tr>\n",
       "    <tr>\n",
       "      <th>25%</th>\n",
       "      <td>15.425000</td>\n",
       "    </tr>\n",
       "    <tr>\n",
       "      <th>50%</th>\n",
       "      <td>19.200000</td>\n",
       "    </tr>\n",
       "    <tr>\n",
       "      <th>75%</th>\n",
       "      <td>22.800000</td>\n",
       "    </tr>\n",
       "    <tr>\n",
       "      <th>max</th>\n",
       "      <td>33.900000</td>\n",
       "    </tr>\n",
       "  </tbody>\n",
       "</table>\n",
       "</div>"
      ],
      "text/plain": [
       "             mpg\n",
       "count  32.000000\n",
       "mean   20.090625\n",
       "std     6.026948\n",
       "min    10.400000\n",
       "25%    15.425000\n",
       "50%    19.200000\n",
       "75%    22.800000\n",
       "max    33.900000"
      ]
     },
     "execution_count": 14,
     "metadata": {},
     "output_type": "execute_result"
    }
   ],
   "source": [
    "print(data.values)\n",
    "data.sort_values(by =['mpg','Cars'], ascending=[True,True])\n",
    "\n",
    "\n",
    "data.describe()"
   ]
  },
  {
   "cell_type": "code",
   "execution_count": 15,
   "metadata": {},
   "outputs": [],
   "source": [
    "# Resampling from our dataset\n",
    "from sklearn.utils import resample\n",
    "boot = resample(data.iloc[:,1:2], replace=False, n_samples=32, random_state=1)\n"
   ]
  },
  {
   "cell_type": "code",
   "execution_count": 16,
   "metadata": {},
   "outputs": [],
   "source": [
    "import math\n",
    "import numpy\n",
    "import numpy.random\n",
    "def __array_mean_indices(a, indices, func_axis=None, dtype=None):\n",
    "\n",
    "    if func_axis == None:\n",
    "        return (numpy.mean(a.flat[indices], dtype=dtype), )\n",
    "    else:\n",
    "        return tuple(numpy.mean(numpy.reshape(numpy.take(a, [j,], axis=func_axis), -1)[indices]) for j in range(a.shape[func_axis]))\n",
    "\n",
    "def __number_measurements(a, func_axis=None):\n",
    "    \"\"\" Calculates the number of measurements of an array from the array and the function axis.\n",
    "    \"\"\"\n",
    "    if func_axis == None:\n",
    "        return a.size\n",
    "    else:\n",
    "        return a.size / a.shape[func_axis]\n",
    "\n",
    "def identity(x):\n",
    "    \"\"\"\n",
    "    Identity function used as default function in the resampling methods.\n",
    "\n",
    "    \"\"\"\n",
    "    return x\n",
    "\n",
    "def bootstrap(a, iterations, func=identity, func_axis=None, dtype=None):\n",
    "   \n",
    "    # Calculate the number of measurements\n",
    "    n = __number_measurements(a, func_axis)\n",
    "    # Evaluate the function on the bootstrap means\n",
    "    bootstrap_values = [func(*(__array_mean_indices(a, numpy.random.randint(0, high=n, size=n), func_axis=func_axis, dtype=dtype))) for i in range(iterations)]\n",
    "\n",
    "    # Return the average value and the error of this averaged value\n",
    "    return numpy.mean(bootstrap_values), math.sqrt(float(iterations)/float(iterations - 1))*numpy.std(bootstrap_values)\n",
    "    print (numpy.std(bootstrap_values))"
   ]
  },
  {
   "cell_type": "code",
   "execution_count": 17,
   "metadata": {},
   "outputs": [
    {
     "data": {
      "text/plain": [
       "(20.20540625, 1.0715566600154287)"
      ]
     },
     "execution_count": 17,
     "metadata": {},
     "output_type": "execute_result"
    }
   ],
   "source": [
    "bootstrap(boot.values, 100, func=identity, func_axis=None, dtype=None) "
   ]
  },
  {
   "cell_type": "code",
   "execution_count": 18,
   "metadata": {},
   "outputs": [
    {
     "name": "stdout",
     "output_type": "stream",
     "text": [
      "The sample mean and std deviation is:-> 20.090625 5.932029552301218\n"
     ]
    }
   ],
   "source": [
    "z = np.mean(boot.values)\n",
    "v = np.std(boot.values)\n",
    "print(\"The sample mean and std deviation is:->\",z,v)"
   ]
  },
  {
   "cell_type": "code",
   "execution_count": 19,
   "metadata": {},
   "outputs": [
    {
     "name": "stdout",
     "output_type": "stream",
     "text": [
      "mpg    0.295264\n",
      "dtype: float64\n",
      "[0.29526356]\n"
     ]
    }
   ],
   "source": [
    "CV = np.sqrt(np.var(boot))/np.mean(boot)\n",
    "print(CV)\n",
    "#Another way to obtain coeffiecient of variation is shown below:\n",
    "b_cov = scipy.stats.variation(boot)\n",
    "print(b_cov)"
   ]
  },
  {
   "cell_type": "code",
   "execution_count": 20,
   "metadata": {},
   "outputs": [
    {
     "name": "stdout",
     "output_type": "stream",
     "text": [
      "mpg    0.618605\n",
      "dtype: float64\n"
     ]
    }
   ],
   "source": [
    "a= np.mean(boot)\n",
    "N=32\n",
    "bias =(a - CV)/N\n",
    "print(bias)\n"
   ]
  },
  {
   "cell_type": "code",
   "execution_count": 21,
   "metadata": {},
   "outputs": [
    {
     "name": "stdout",
     "output_type": "stream",
     "text": [
      "Std error of this sample is: mpg    0.185376\n",
      "dtype: float64\n"
     ]
    }
   ],
   "source": [
    "n=32\n",
    "se =  np.std(boot) / n\n",
    "print(\"Std error of this sample is:\", se)"
   ]
  },
  {
   "cell_type": "code",
   "execution_count": 22,
   "metadata": {},
   "outputs": [
    {
     "name": "stdout",
     "output_type": "stream",
     "text": [
      "19.971499999999995 1.061330245862629\n"
     ]
    }
   ],
   "source": [
    "\n",
    "mean_a, error_a = bootstrap(boot.values, 100)\n",
    "print(mean_a,error_a)\n",
    "#error_a is se_hat and se is se_that"
   ]
  },
  {
   "cell_type": "code",
   "execution_count": 23,
   "metadata": {},
   "outputs": [
    {
     "data": {
      "text/plain": [
       "(False, False)"
      ]
     },
     "execution_count": 23,
     "metadata": {},
     "output_type": "execute_result"
    }
   ],
   "source": [
    "\n",
    "(mean_a > 34, mean_a < 10)"
   ]
  },
  {
   "cell_type": "code",
   "execution_count": 24,
   "metadata": {},
   "outputs": [
    {
     "data": {
      "text/plain": [
       "(True, False)"
      ]
     },
     "execution_count": 24,
     "metadata": {},
     "output_type": "execute_result"
    }
   ],
   "source": [
    "(error_a > 2.0/math.sqrt(1000 - 1) - 0.01, error_a < 2.0/math.sqrt(1000 - 1) + 0.01)"
   ]
  },
  {
   "cell_type": "code",
   "execution_count": 25,
   "metadata": {},
   "outputs": [],
   "source": [
    "import numpy as np\n",
    "from astropy.stats import jackknife_resampling\n",
    "d = boot.values"
   ]
  },
  {
   "cell_type": "code",
   "execution_count": 26,
   "metadata": {},
   "outputs": [
    {
     "data": {
      "text/plain": [
       "array([[21.4, 15.2, 30.4, 13.3, 32.4, 15.5, 15.8, 33.9, 10.4, 19.2, 17.8,\n",
       "        21.5, 26. , 18.7, 22.8, 27.3, 14.3, 15.2, 24.4, 19.7, 21. , 14.7,\n",
       "        21. , 10.4, 21.4, 15. , 19.2, 22.8, 17.3, 16.4, 18.1],\n",
       "       [30.4, 15.2, 30.4, 13.3, 32.4, 15.5, 15.8, 33.9, 10.4, 19.2, 17.8,\n",
       "        21.5, 26. , 18.7, 22.8, 27.3, 14.3, 15.2, 24.4, 19.7, 21. , 14.7,\n",
       "        21. , 10.4, 21.4, 15. , 19.2, 22.8, 17.3, 16.4, 18.1],\n",
       "       [30.4, 21.4, 30.4, 13.3, 32.4, 15.5, 15.8, 33.9, 10.4, 19.2, 17.8,\n",
       "        21.5, 26. , 18.7, 22.8, 27.3, 14.3, 15.2, 24.4, 19.7, 21. , 14.7,\n",
       "        21. , 10.4, 21.4, 15. , 19.2, 22.8, 17.3, 16.4, 18.1],\n",
       "       [30.4, 21.4, 15.2, 13.3, 32.4, 15.5, 15.8, 33.9, 10.4, 19.2, 17.8,\n",
       "        21.5, 26. , 18.7, 22.8, 27.3, 14.3, 15.2, 24.4, 19.7, 21. , 14.7,\n",
       "        21. , 10.4, 21.4, 15. , 19.2, 22.8, 17.3, 16.4, 18.1],\n",
       "       [30.4, 21.4, 15.2, 30.4, 32.4, 15.5, 15.8, 33.9, 10.4, 19.2, 17.8,\n",
       "        21.5, 26. , 18.7, 22.8, 27.3, 14.3, 15.2, 24.4, 19.7, 21. , 14.7,\n",
       "        21. , 10.4, 21.4, 15. , 19.2, 22.8, 17.3, 16.4, 18.1],\n",
       "       [30.4, 21.4, 15.2, 30.4, 13.3, 15.5, 15.8, 33.9, 10.4, 19.2, 17.8,\n",
       "        21.5, 26. , 18.7, 22.8, 27.3, 14.3, 15.2, 24.4, 19.7, 21. , 14.7,\n",
       "        21. , 10.4, 21.4, 15. , 19.2, 22.8, 17.3, 16.4, 18.1],\n",
       "       [30.4, 21.4, 15.2, 30.4, 13.3, 32.4, 15.8, 33.9, 10.4, 19.2, 17.8,\n",
       "        21.5, 26. , 18.7, 22.8, 27.3, 14.3, 15.2, 24.4, 19.7, 21. , 14.7,\n",
       "        21. , 10.4, 21.4, 15. , 19.2, 22.8, 17.3, 16.4, 18.1],\n",
       "       [30.4, 21.4, 15.2, 30.4, 13.3, 32.4, 15.5, 33.9, 10.4, 19.2, 17.8,\n",
       "        21.5, 26. , 18.7, 22.8, 27.3, 14.3, 15.2, 24.4, 19.7, 21. , 14.7,\n",
       "        21. , 10.4, 21.4, 15. , 19.2, 22.8, 17.3, 16.4, 18.1],\n",
       "       [30.4, 21.4, 15.2, 30.4, 13.3, 32.4, 15.5, 15.8, 10.4, 19.2, 17.8,\n",
       "        21.5, 26. , 18.7, 22.8, 27.3, 14.3, 15.2, 24.4, 19.7, 21. , 14.7,\n",
       "        21. , 10.4, 21.4, 15. , 19.2, 22.8, 17.3, 16.4, 18.1],\n",
       "       [30.4, 21.4, 15.2, 30.4, 13.3, 32.4, 15.5, 15.8, 33.9, 19.2, 17.8,\n",
       "        21.5, 26. , 18.7, 22.8, 27.3, 14.3, 15.2, 24.4, 19.7, 21. , 14.7,\n",
       "        21. , 10.4, 21.4, 15. , 19.2, 22.8, 17.3, 16.4, 18.1],\n",
       "       [30.4, 21.4, 15.2, 30.4, 13.3, 32.4, 15.5, 15.8, 33.9, 10.4, 17.8,\n",
       "        21.5, 26. , 18.7, 22.8, 27.3, 14.3, 15.2, 24.4, 19.7, 21. , 14.7,\n",
       "        21. , 10.4, 21.4, 15. , 19.2, 22.8, 17.3, 16.4, 18.1],\n",
       "       [30.4, 21.4, 15.2, 30.4, 13.3, 32.4, 15.5, 15.8, 33.9, 10.4, 19.2,\n",
       "        21.5, 26. , 18.7, 22.8, 27.3, 14.3, 15.2, 24.4, 19.7, 21. , 14.7,\n",
       "        21. , 10.4, 21.4, 15. , 19.2, 22.8, 17.3, 16.4, 18.1],\n",
       "       [30.4, 21.4, 15.2, 30.4, 13.3, 32.4, 15.5, 15.8, 33.9, 10.4, 19.2,\n",
       "        17.8, 26. , 18.7, 22.8, 27.3, 14.3, 15.2, 24.4, 19.7, 21. , 14.7,\n",
       "        21. , 10.4, 21.4, 15. , 19.2, 22.8, 17.3, 16.4, 18.1],\n",
       "       [30.4, 21.4, 15.2, 30.4, 13.3, 32.4, 15.5, 15.8, 33.9, 10.4, 19.2,\n",
       "        17.8, 21.5, 18.7, 22.8, 27.3, 14.3, 15.2, 24.4, 19.7, 21. , 14.7,\n",
       "        21. , 10.4, 21.4, 15. , 19.2, 22.8, 17.3, 16.4, 18.1],\n",
       "       [30.4, 21.4, 15.2, 30.4, 13.3, 32.4, 15.5, 15.8, 33.9, 10.4, 19.2,\n",
       "        17.8, 21.5, 26. , 22.8, 27.3, 14.3, 15.2, 24.4, 19.7, 21. , 14.7,\n",
       "        21. , 10.4, 21.4, 15. , 19.2, 22.8, 17.3, 16.4, 18.1],\n",
       "       [30.4, 21.4, 15.2, 30.4, 13.3, 32.4, 15.5, 15.8, 33.9, 10.4, 19.2,\n",
       "        17.8, 21.5, 26. , 18.7, 27.3, 14.3, 15.2, 24.4, 19.7, 21. , 14.7,\n",
       "        21. , 10.4, 21.4, 15. , 19.2, 22.8, 17.3, 16.4, 18.1],\n",
       "       [30.4, 21.4, 15.2, 30.4, 13.3, 32.4, 15.5, 15.8, 33.9, 10.4, 19.2,\n",
       "        17.8, 21.5, 26. , 18.7, 22.8, 14.3, 15.2, 24.4, 19.7, 21. , 14.7,\n",
       "        21. , 10.4, 21.4, 15. , 19.2, 22.8, 17.3, 16.4, 18.1],\n",
       "       [30.4, 21.4, 15.2, 30.4, 13.3, 32.4, 15.5, 15.8, 33.9, 10.4, 19.2,\n",
       "        17.8, 21.5, 26. , 18.7, 22.8, 27.3, 15.2, 24.4, 19.7, 21. , 14.7,\n",
       "        21. , 10.4, 21.4, 15. , 19.2, 22.8, 17.3, 16.4, 18.1],\n",
       "       [30.4, 21.4, 15.2, 30.4, 13.3, 32.4, 15.5, 15.8, 33.9, 10.4, 19.2,\n",
       "        17.8, 21.5, 26. , 18.7, 22.8, 27.3, 14.3, 24.4, 19.7, 21. , 14.7,\n",
       "        21. , 10.4, 21.4, 15. , 19.2, 22.8, 17.3, 16.4, 18.1],\n",
       "       [30.4, 21.4, 15.2, 30.4, 13.3, 32.4, 15.5, 15.8, 33.9, 10.4, 19.2,\n",
       "        17.8, 21.5, 26. , 18.7, 22.8, 27.3, 14.3, 15.2, 19.7, 21. , 14.7,\n",
       "        21. , 10.4, 21.4, 15. , 19.2, 22.8, 17.3, 16.4, 18.1],\n",
       "       [30.4, 21.4, 15.2, 30.4, 13.3, 32.4, 15.5, 15.8, 33.9, 10.4, 19.2,\n",
       "        17.8, 21.5, 26. , 18.7, 22.8, 27.3, 14.3, 15.2, 24.4, 21. , 14.7,\n",
       "        21. , 10.4, 21.4, 15. , 19.2, 22.8, 17.3, 16.4, 18.1],\n",
       "       [30.4, 21.4, 15.2, 30.4, 13.3, 32.4, 15.5, 15.8, 33.9, 10.4, 19.2,\n",
       "        17.8, 21.5, 26. , 18.7, 22.8, 27.3, 14.3, 15.2, 24.4, 19.7, 14.7,\n",
       "        21. , 10.4, 21.4, 15. , 19.2, 22.8, 17.3, 16.4, 18.1],\n",
       "       [30.4, 21.4, 15.2, 30.4, 13.3, 32.4, 15.5, 15.8, 33.9, 10.4, 19.2,\n",
       "        17.8, 21.5, 26. , 18.7, 22.8, 27.3, 14.3, 15.2, 24.4, 19.7, 21. ,\n",
       "        21. , 10.4, 21.4, 15. , 19.2, 22.8, 17.3, 16.4, 18.1],\n",
       "       [30.4, 21.4, 15.2, 30.4, 13.3, 32.4, 15.5, 15.8, 33.9, 10.4, 19.2,\n",
       "        17.8, 21.5, 26. , 18.7, 22.8, 27.3, 14.3, 15.2, 24.4, 19.7, 21. ,\n",
       "        14.7, 10.4, 21.4, 15. , 19.2, 22.8, 17.3, 16.4, 18.1],\n",
       "       [30.4, 21.4, 15.2, 30.4, 13.3, 32.4, 15.5, 15.8, 33.9, 10.4, 19.2,\n",
       "        17.8, 21.5, 26. , 18.7, 22.8, 27.3, 14.3, 15.2, 24.4, 19.7, 21. ,\n",
       "        14.7, 21. , 21.4, 15. , 19.2, 22.8, 17.3, 16.4, 18.1],\n",
       "       [30.4, 21.4, 15.2, 30.4, 13.3, 32.4, 15.5, 15.8, 33.9, 10.4, 19.2,\n",
       "        17.8, 21.5, 26. , 18.7, 22.8, 27.3, 14.3, 15.2, 24.4, 19.7, 21. ,\n",
       "        14.7, 21. , 10.4, 15. , 19.2, 22.8, 17.3, 16.4, 18.1],\n",
       "       [30.4, 21.4, 15.2, 30.4, 13.3, 32.4, 15.5, 15.8, 33.9, 10.4, 19.2,\n",
       "        17.8, 21.5, 26. , 18.7, 22.8, 27.3, 14.3, 15.2, 24.4, 19.7, 21. ,\n",
       "        14.7, 21. , 10.4, 21.4, 19.2, 22.8, 17.3, 16.4, 18.1],\n",
       "       [30.4, 21.4, 15.2, 30.4, 13.3, 32.4, 15.5, 15.8, 33.9, 10.4, 19.2,\n",
       "        17.8, 21.5, 26. , 18.7, 22.8, 27.3, 14.3, 15.2, 24.4, 19.7, 21. ,\n",
       "        14.7, 21. , 10.4, 21.4, 15. , 22.8, 17.3, 16.4, 18.1],\n",
       "       [30.4, 21.4, 15.2, 30.4, 13.3, 32.4, 15.5, 15.8, 33.9, 10.4, 19.2,\n",
       "        17.8, 21.5, 26. , 18.7, 22.8, 27.3, 14.3, 15.2, 24.4, 19.7, 21. ,\n",
       "        14.7, 21. , 10.4, 21.4, 15. , 19.2, 17.3, 16.4, 18.1],\n",
       "       [30.4, 21.4, 15.2, 30.4, 13.3, 32.4, 15.5, 15.8, 33.9, 10.4, 19.2,\n",
       "        17.8, 21.5, 26. , 18.7, 22.8, 27.3, 14.3, 15.2, 24.4, 19.7, 21. ,\n",
       "        14.7, 21. , 10.4, 21.4, 15. , 19.2, 22.8, 16.4, 18.1],\n",
       "       [30.4, 21.4, 15.2, 30.4, 13.3, 32.4, 15.5, 15.8, 33.9, 10.4, 19.2,\n",
       "        17.8, 21.5, 26. , 18.7, 22.8, 27.3, 14.3, 15.2, 24.4, 19.7, 21. ,\n",
       "        14.7, 21. , 10.4, 21.4, 15. , 19.2, 22.8, 17.3, 18.1],\n",
       "       [30.4, 21.4, 15.2, 30.4, 13.3, 32.4, 15.5, 15.8, 33.9, 10.4, 19.2,\n",
       "        17.8, 21.5, 26. , 18.7, 22.8, 27.3, 14.3, 15.2, 24.4, 19.7, 21. ,\n",
       "        14.7, 21. , 10.4, 21.4, 15. , 19.2, 22.8, 17.3, 16.4]])"
      ]
     },
     "execution_count": 26,
     "metadata": {},
     "output_type": "execute_result"
    }
   ],
   "source": [
    "resamples = jackknife_resampling(d)\n",
    "resamples\n"
   ]
  },
  {
   "cell_type": "code",
   "execution_count": 27,
   "metadata": {},
   "outputs": [],
   "source": [
    "x = scipy.stats.variation\n"
   ]
  },
  {
   "cell_type": "code",
   "execution_count": 28,
   "metadata": {},
   "outputs": [],
   "source": [
    "def jackknife_resampling(data):\n",
    "    n = data.shape[0]\n",
    "    assert n > 0, \"data must contain at least one measurement\"\n",
    "\n",
    "    resamples = np.empty([n, n-1])\n",
    "\n",
    "    for i in range(n):\n",
    "        resamples[i] = np.delete(data, i)\n",
    "\n",
    "    return resamples\n",
    "\n",
    "def jackknife_stats(data, statistic, conf_lvl=0.95):\n",
    "    stat_data = statistic(data)\n",
    "    jack_stat = np.apply_along_axis(statistic, 1, resamples)\n",
    "    mean_jack_stat = np.mean(jack_stat, axis=0)\n",
    "    # jackknife bias\n",
    "    bias = (n-1)*(mean_jack_stat - stat_data)\n",
    "\n",
    "    # jackknife standard error\n",
    "    std_err = np.sqrt((n-1)*np.mean((jack_stat - mean_jack_stat)*(jack_stat -\n",
    "                                    mean_jack_stat), axis=0))\n",
    "\n",
    "    # bias-corrected \"jackknifed estimate\"\n",
    "    estimate = stat_data - bias\n",
    "    # jackknife confidence interval\n",
    "    assert (conf_lvl > 0 and conf_lvl < 1), \"confidence level must be in (0,1).\"\n",
    "    z_score = np.sqrt(2.0)*erfinv(conf_lvl)\n",
    "    conf_interval = estimate + z_score*np.array((-std_err, std_err))\n",
    "\n",
    "    return estimate, bias, std_err, conf_interval"
   ]
  },
  {
   "cell_type": "code",
   "execution_count": 29,
   "metadata": {},
   "outputs": [
    {
     "data": {
      "text/plain": [
       "(6.075658514972499,\n",
       " -0.143628962671281,\n",
       " 0.753809543883037,\n",
       " array([4.59821896, 7.55309807]))"
      ]
     },
     "execution_count": 29,
     "metadata": {},
     "output_type": "execute_result"
    }
   ],
   "source": [
    " from scipy.special import erfinv\n",
    "jackknife_stats(resamples,np.std, conf_lvl=0.95)\n"
   ]
  },
  {
   "cell_type": "code",
   "execution_count": 30,
   "metadata": {},
   "outputs": [
    {
     "data": {
      "text/plain": [
       "(20.090625000000223,\n",
       " -2.2026824808563106e-13,\n",
       " 1.065423959372812,\n",
       " array([18.00243241, 22.17881759]))"
      ]
     },
     "execution_count": 30,
     "metadata": {},
     "output_type": "execute_result"
    }
   ],
   "source": [
    "jackknife_stats(resamples,np.mean, conf_lvl=0.95)"
   ]
  },
  {
   "cell_type": "code",
   "execution_count": 31,
   "metadata": {},
   "outputs": [
    {
     "data": {
      "text/plain": [
       "(array([0.30256309]),\n",
       " array([-0.00729953]),\n",
       " 0.033086437178220435,\n",
       " array([0.23771487, 0.36741132]))"
      ]
     },
     "execution_count": 31,
     "metadata": {},
     "output_type": "execute_result"
    }
   ],
   "source": [
    "jackknife_stats(d,x, conf_lvl=0.95)"
   ]
  },
  {
   "cell_type": "code",
   "execution_count": 32,
   "metadata": {},
   "outputs": [],
   "source": [
    "# estimate   ---> (array([0.30256309]), ,  array([0.23771487, 0.36741132]))\n",
    "# bias       ---> array([-0.00729953])\n",
    "# std_error  ---> 0.033086437178220435,\n",
    "# conf_interval--->array([0.23771487, 0.36741132]))"
   ]
  },
  {
   "cell_type": "code",
   "execution_count": 33,
   "metadata": {},
   "outputs": [
    {
     "data": {
      "image/png": "[encoded data removed]",
      "text/plain": [
       "<Figure size 432x288 with 1 Axes>"
      ]
     },
     "metadata": {},
     "output_type": "display_data"
    }
   ],
   "source": [
    "\n",
    "plt.hist(d, 25, histtype='step');"
   ]
  },
  {
   "cell_type": "code",
   "execution_count": 34,
   "metadata": {},
   "outputs": [],
   "source": [
    "\n",
    "def mean_confidence_interval(sample, confidence=0.95):\n",
    "    a = 1.0 * np.array(sample)\n",
    "    n = len(d)\n",
    "    m, se = np.mean(d), scipy.stats.sem(d)\n",
    "    h = se * scipy.stats.t.ppf((1 + confidence) / 2., n-1)\n",
    "    return m, m-h, m+h\n"
   ]
  },
  {
   "cell_type": "code",
   "execution_count": 35,
   "metadata": {},
   "outputs": [
    {
     "data": {
      "text/plain": [
       "(20.090625, array([17.91767851]), array([22.26357149]))"
      ]
     },
     "execution_count": 35,
     "metadata": {},
     "output_type": "execute_result"
    }
   ],
   "source": [
    "mean_confidence_interval(resamples, confidence=0.95)"
   ]
  },
  {
   "cell_type": "code",
   "execution_count": 36,
   "metadata": {},
   "outputs": [
    {
     "data": {
      "text/plain": [
       "10.4"
      ]
     },
     "execution_count": 36,
     "metadata": {},
     "output_type": "execute_result"
    }
   ],
   "source": [
    "\n",
    "np.percentile(resamples, 0.95)"
   ]
  },
  {
   "cell_type": "code",
   "execution_count": 37,
   "metadata": {},
   "outputs": [
    {
     "data": {
      "text/plain": [
       "array([32.4])"
      ]
     },
     "execution_count": 37,
     "metadata": {},
     "output_type": "execute_result"
    }
   ],
   "source": [
    "scipy.stats.mstats.mquantiles (resamples,0.95)"
   ]
  },
  {
   "cell_type": "code",
   "execution_count": 38,
   "metadata": {},
   "outputs": [
    {
     "data": {
      "text/plain": [
       "array([10.4])"
      ]
     },
     "execution_count": 38,
     "metadata": {},
     "output_type": "execute_result"
    }
   ],
   "source": [
    "scipy.stats.mstats.mquantiles (resamples,0.05)"
   ]
  },
  {
   "cell_type": "code",
   "execution_count": null,
   "metadata": {},
   "outputs": [],
   "source": []
  },
  {
   "cell_type": "markdown",
   "metadata": {},
   "source": [
    "# Question 2 - One class SVM- LSSVD"
   ]
  },
  {
   "cell_type": "code",
   "execution_count": 39,
   "metadata": {},
   "outputs": [],
   "source": [
    "import pandas as pd\n",
    "import numpy as np\n"
   ]
  },
  {
   "cell_type": "code",
   "execution_count": 40,
   "metadata": {},
   "outputs": [],
   "source": [
    "data = pd.read_csv(r\"C:\\Users\\anmol\\Downloads\\charlie1.csv\")\n",
    "X = data[['z1','z2']]\n",
    "y = data['Data']\n",
    "\n",
    "y_out = np.array(y[20:])\n",
    "x_out = np.array(X[20:])\n",
    "\n",
    "y = y[0:20]\n",
    "X = X[0:20]\n",
    "\n",
    "X = np.array(X)\n",
    "y = np.array(y)\n",
    "\n"
   ]
  },
  {
   "cell_type": "code",
   "execution_count": 41,
   "metadata": {},
   "outputs": [],
   "source": [
    "def Kernel(x, y, sigma):\n",
    "    return np.exp(-np.linalg.norm(x-y)**2 / ( (sigma ** 2)))\n",
    "\n",
    "def Gram_Matrix(x):\n",
    "    K = np.zeros((len(x),len(x)))\n",
    "    for i in range(0, len(x)):\n",
    "        for j in range(0, len(x)):\n",
    "            K[i, j] = Kernel(x[i], x[j], sigma)\n",
    "            \n",
    "    return K\n",
    "\n",
    "def H(x):\n",
    "    mat = np.zeros((len(x), len(x)))\n",
    "    mat[0:len(x), 0:len(x)] = Gram_Matrix(x) + np.eye(len(x))/2*C\n",
    "    return mat\n",
    "\n",
    "def alpha():\n",
    "    p1 = np.dot(np.dot(np.linalg.inv(H_mat), e.T),k)\n",
    "    p2 = np.dot(np.dot(np.linalg.inv(H_mat), e.T), e)\n",
    "    p3 = (2-p1)/p2\n",
    "    p3 = k + np.dot(p3, e)\n",
    "    a = 0.5*np.dot(np.linalg.inv(H_mat),p3)\n",
    "    return a\n",
    "\n"
   ]
  },
  {
   "cell_type": "code",
   "execution_count": 42,
   "metadata": {},
   "outputs": [],
   "source": [
    "e = np.ones(len(X))\n",
    "k = np.zeros((len(X)))\n",
    "\n",
    "sigma = 0.125\n",
    "C = 1\n",
    "\n",
    "\n",
    "for j in range(0, len(X)):\n",
    "    k[j] = Kernel(X[j], X[j], sigma)\n",
    "    "
   ]
  },
  {
   "cell_type": "code",
   "execution_count": 43,
   "metadata": {},
   "outputs": [],
   "source": [
    "H_mat = H(X)\n",
    "al = alpha()"
   ]
  },
  {
   "cell_type": "code",
   "execution_count": 44,
   "metadata": {},
   "outputs": [],
   "source": [
    "def R_square():\n",
    "    p1 = 0\n",
    "    p2 = 0\n",
    "    total = 0\n",
    "    for s in range(0, len(X)):\n",
    "        k = Kernel(X[s], X[s], sigma)\n",
    "        for j in range(0, len(X)):\n",
    "            p1 = p1 + al[j]*Kernel(X[s], X[j], sigma)\n",
    "            for l in range(0, len(X)):\n",
    "                p2 = p2 + al[j]*al[l]*Kernel(X[j], X[l], sigma)\n",
    "        total = total + (k - 2 * p1 + p2)\n",
    "    final = total/len(X)\n",
    "    return final\n",
    "    total_new[i]= total - X[i]\n",
    "    return total_new\n",
    "\n",
    "final = R_square()"
   ]
  },
  {
   "cell_type": "code",
   "execution_count": 45,
   "metadata": {},
   "outputs": [
    {
     "data": {
      "text/plain": [
       "0.46323714966335905"
      ]
     },
     "execution_count": 45,
     "metadata": {},
     "output_type": "execute_result"
    }
   ],
   "source": [
    "final"
   ]
  },
  {
   "cell_type": "code",
   "execution_count": 46,
   "metadata": {},
   "outputs": [],
   "source": [
    "\n",
    "def classification(x):\n",
    "    t_out = []\n",
    "    t_in = []\n",
    "    p = 0\n",
    "    p1 = 0\n",
    "    for z in range(0, len(x)):\n",
    "        k = Kernel(x[z], x[z], sigma)    \n",
    "        for j in range(0, len(X)):\n",
    "            p = p + al[j]*Kernel(x, X[j], sigma)\n",
    "            for l in range(0, len(X)):\n",
    "                p1 = p1 + al[j]*al[l]*Kernel(X[j], X[l], sigma)\n",
    "        d = k - 2*p + p1\n",
    "        if d <= final:\n",
    "            t_in.append(x[z])\n",
    "        else:\n",
    "            t_out.append(x[z])\n",
    "\n",
    "    return t_out, t_in\n",
    "\n",
    "t_out, t_in = classification(x_out)"
   ]
  },
  {
   "cell_type": "code",
   "execution_count": 47,
   "metadata": {},
   "outputs": [
    {
     "data": {
      "text/plain": [
       "[array([0.074196, 0.239359]),\n",
       " array([-1.51756, -0.21121]),\n",
       " array([ 1.408476, -0.87591 ]),\n",
       " array([ 6.298001, -3.67398 ]),\n",
       " array([ 3.802025, -1.99584 ]),\n",
       " array([ 6.490673, -2.73143 ]),\n",
       " array([ 2.738829, -1.37617 ]),\n",
       " array([ 4.958747, -3.94851 ]),\n",
       " array([ 5.678092, -3.85838 ]),\n",
       " array([ 3.369657, -2.10878 ])]"
      ]
     },
     "execution_count": 47,
     "metadata": {},
     "output_type": "execute_result"
    }
   ],
   "source": [
    "t_out"
   ]
  },
  {
   "cell_type": "code",
   "execution_count": 48,
   "metadata": {},
   "outputs": [
    {
     "data": {
      "text/plain": [
       "[]"
      ]
     },
     "execution_count": 48,
     "metadata": {},
     "output_type": "execute_result"
    }
   ],
   "source": [
    "t_in"
   ]
  },
  {
   "cell_type": "code",
   "execution_count": 49,
   "metadata": {},
   "outputs": [
    {
     "data": {
      "text/plain": [
       "OneClassSVM(cache_size=200, coef0=0.0, degree=3, gamma='auto', kernel='rbf',\n",
       "      max_iter=-1, nu=0.5, random_state=None, shrinking=True, tol=0.001,\n",
       "      verbose=False)"
      ]
     },
     "execution_count": 49,
     "metadata": {},
     "output_type": "execute_result"
    }
   ],
   "source": [
    "import matplotlib.pyplot as plt\n",
    "import matplotlib.font_manager\n",
    "from sklearn import svm\n",
    "\n",
    "clf = svm.OneClassSVM(kernel = 'rbf', gamma = 'auto')\n",
    "clf.fit(t_out, t_in)"
   ]
  },
  {
   "cell_type": "code",
   "execution_count": 50,
   "metadata": {},
   "outputs": [
    {
     "data": {
      "text/plain": [
       "array([-1, -1,  1, -1,  1, -1, -1, -1,  1,  1], dtype=int64)"
      ]
     },
     "execution_count": 50,
     "metadata": {},
     "output_type": "execute_result"
    }
   ],
   "source": [
    "clf.predict(t_out)"
   ]
  },
  {
   "cell_type": "code",
   "execution_count": 51,
   "metadata": {},
   "outputs": [
    {
     "name": "stdout",
     "output_type": "stream",
     "text": [
      "Number of errors =  2 / 10\n",
      "Classification rate =  80.0 %\n"
     ]
    }
   ],
   "source": [
    "n_error_outliers = t_out[t_out == 1].size\n",
    "print(\"Number of errors = \",n_error_outliers,\"/\",y_out.size)\n",
    "#classification rate\n",
    "rate = n_error_outliers/y_out.size\n",
    "print(\"Classification rate = \",100*(1-rate),\"%\")"
   ]
  },
  {
   "cell_type": "code",
   "execution_count": 61,
   "metadata": {},
   "outputs": [
    {
     "ename": "NameError",
     "evalue": "name 'xx' is not defined",
     "output_type": "error",
     "traceback": [
      "\u001b[1;31m---------------------------------------------------------------------------\u001b[0m",
      "\u001b[1;31mNameError\u001b[0m                                 Traceback (most recent call last)",
      "\u001b[1;32m<ipython-input-61-2768fdb28c69>\u001b[0m in \u001b[0;36m<module>\u001b[1;34m()\u001b[0m\n\u001b[1;32m----> 1\u001b[1;33m \u001b[0mplt\u001b[0m\u001b[1;33m.\u001b[0m\u001b[0mcontourf\u001b[0m\u001b[1;33m(\u001b[0m\u001b[0mxx\u001b[0m\u001b[1;33m,\u001b[0m \u001b[0myy\u001b[0m\u001b[1;33m,\u001b[0m \u001b[0mZ\u001b[0m\u001b[1;33m,\u001b[0m \u001b[0mlevels\u001b[0m\u001b[1;33m=\u001b[0m\u001b[0mnp\u001b[0m\u001b[1;33m.\u001b[0m\u001b[0mlinspace\u001b[0m\u001b[1;33m(\u001b[0m\u001b[0mZ\u001b[0m\u001b[1;33m.\u001b[0m\u001b[0mmin\u001b[0m\u001b[1;33m(\u001b[0m\u001b[1;33m)\u001b[0m\u001b[1;33m,\u001b[0m\u001b[1;36m0\u001b[0m\u001b[1;33m,\u001b[0m \u001b[1;36m20\u001b[0m\u001b[1;33m)\u001b[0m\u001b[1;33m,\u001b[0m \u001b[0mcmap\u001b[0m\u001b[1;33m=\u001b[0m\u001b[0mplt\u001b[0m\u001b[1;33m.\u001b[0m\u001b[0mcm\u001b[0m\u001b[1;33m.\u001b[0m\u001b[0mPuBu\u001b[0m\u001b[1;33m)\u001b[0m\u001b[1;33m\u001b[0m\u001b[0m\n\u001b[0m\u001b[0;32m      2\u001b[0m \u001b[0ma\u001b[0m \u001b[1;33m=\u001b[0m \u001b[0mplt\u001b[0m\u001b[1;33m.\u001b[0m\u001b[0mcontour\u001b[0m\u001b[1;33m(\u001b[0m\u001b[0mxx\u001b[0m\u001b[1;33m,\u001b[0m \u001b[0myy\u001b[0m\u001b[1;33m,\u001b[0m \u001b[0mZ\u001b[0m\u001b[1;33m,\u001b[0m \u001b[0mlevels\u001b[0m\u001b[1;33m=\u001b[0m\u001b[1;33m[\u001b[0m\u001b[1;36m0\u001b[0m\u001b[1;33m]\u001b[0m\u001b[1;33m,\u001b[0m \u001b[0mlinewidths\u001b[0m\u001b[1;33m=\u001b[0m\u001b[1;36m2\u001b[0m\u001b[1;33m,\u001b[0m \u001b[0mcolors\u001b[0m\u001b[1;33m=\u001b[0m\u001b[1;34m'darkred'\u001b[0m\u001b[1;33m)\u001b[0m\u001b[1;33m\u001b[0m\u001b[0m\n\u001b[0;32m      3\u001b[0m \u001b[1;33m\u001b[0m\u001b[0m\n\u001b[0;32m      4\u001b[0m \u001b[0ms\u001b[0m \u001b[1;33m=\u001b[0m \u001b[1;36m70\u001b[0m \u001b[1;31m#Size of blobs\u001b[0m\u001b[1;33m\u001b[0m\u001b[0m\n\u001b[0;32m      5\u001b[0m \u001b[0mb1\u001b[0m \u001b[1;33m=\u001b[0m \u001b[0mplt\u001b[0m\u001b[1;33m.\u001b[0m\u001b[0mscatter\u001b[0m\u001b[1;33m(\u001b[0m\u001b[0mX\u001b[0m\u001b[1;33m[\u001b[0m\u001b[1;33m:\u001b[0m\u001b[1;33m,\u001b[0m \u001b[1;36m0\u001b[0m\u001b[1;33m]\u001b[0m\u001b[1;33m,\u001b[0m \u001b[0mX\u001b[0m\u001b[1;33m[\u001b[0m\u001b[1;33m:\u001b[0m\u001b[1;33m,\u001b[0m \u001b[1;36m1\u001b[0m\u001b[1;33m]\u001b[0m\u001b[1;33m,\u001b[0m \u001b[0mc\u001b[0m\u001b[1;33m=\u001b[0m\u001b[1;34m'white'\u001b[0m\u001b[1;33m,\u001b[0m \u001b[0ms\u001b[0m\u001b[1;33m=\u001b[0m\u001b[0ms\u001b[0m\u001b[1;33m,\u001b[0m \u001b[0medgecolors\u001b[0m\u001b[1;33m=\u001b[0m\u001b[1;34m'k'\u001b[0m\u001b[1;33m)\u001b[0m\u001b[1;33m\u001b[0m\u001b[0m\n",
      "\u001b[1;31mNameError\u001b[0m: name 'xx' is not defined"
     ]
    }
   ],
   "source": [
    "plt.contourf(xx, yy, Z, levels=np.linspace(Z.min(),0, 20), cmap=plt.cm.PuBu)\n",
    "a = plt.contour(xx, yy, Z, levels=[0], linewidths=2, colors='darkred')\n",
    "\n",
    "s = 70 #Size of blobs\n",
    "b1 = plt.scatter(X[:, 0], X[:, 1], c='white', s=s, edgecolors='k')\n",
    "c = plt.scatter(x_out[:, 0], x_out[:, 1], c='gold', s=s,\n",
    "                edgecolors='k')\n",
    "plt.xlim((-5, 5))\n",
    "plt.ylim((-5, 5))\n",
    "plt.legend([b1, c],\n",
    "           [ \"training observations\",\n",
    "             \"outliers\"],\n",
    "           loc=\"upper left\",\n",
    "           prop=mp.font_manager.FontProperties(size=11))\n",
    "plt.show()"
   ]
  },
  {
   "cell_type": "code",
   "execution_count": 52,
   "metadata": {},
   "outputs": [],
   "source": [
    "\n",
    "df = pd.DataFrame(t_out)"
   ]
  },
  {
   "cell_type": "code",
   "execution_count": 53,
   "metadata": {},
   "outputs": [
    {
     "data": {
      "text/plain": [
       "<seaborn.axisgrid.PairGrid at 0x1cd2c0facc0>"
      ]
     },
     "execution_count": 53,
     "metadata": {},
     "output_type": "execute_result"
    },
    {
     "data": {
      "image/png": "[encoded data removed]",
      "text/plain": [
       "<Figure size 360x360 with 6 Axes>"
      ]
     },
     "metadata": {},
     "output_type": "display_data"
    }
   ],
   "source": [
    "import seaborn as sns\n",
    "sns.pairplot(df)\n"
   ]
  },
  {
   "cell_type": "code",
   "execution_count": 54,
   "metadata": {},
   "outputs": [
    {
     "name": "stdout",
     "output_type": "stream",
     "text": [
      "This shows that all t_out i.e outliers  and y_out = New points are detected as anomaly and shown below at -1,0 \n",
      "Rest all points are not shown as they appear to be inside the circle of radius = final =0.47 and are not counted as anomaly i.e why we have t_in as empty set for any -1 value.\n"
     ]
    },
    {
     "data": {
      "image/png": "[encoded data removed]",
      "text/plain": [
       "<Figure size 432x288 with 1 Axes>"
      ]
     },
     "metadata": {},
     "output_type": "display_data"
    }
   ],
   "source": [
    "l = df.iloc[0:,1:2]\n",
    "x = np.linspace(0, 10, 10)\n",
    "y = l\n",
    "plt.plot(t_out, y_out, 'o', color='black');\n",
    "\n",
    "print(\"This shows that all t_out i.e outliers  and y_out = New points are detected as anomaly and shown below at -1,0 \")\n",
    "print(\"Rest all points are not shown as they appear to be inside the circle of radius = final =0.47 and are not counted as anomaly i.e why we have t_in as empty set for any -1 value.\")"
   ]
  },
  {
   "cell_type": "code",
   "execution_count": null,
   "metadata": {},
   "outputs": [],
   "source": []
  },
  {
   "cell_type": "code",
   "execution_count": null,
   "metadata": {},
   "outputs": [],
   "source": []
  },
  {
   "cell_type": "code",
   "execution_count": null,
   "metadata": {},
   "outputs": [],
   "source": []
  },
  {
   "cell_type": "code",
   "execution_count": null,
   "metadata": {},
   "outputs": [],
   "source": []
  },
  {
   "cell_type": "markdown",
   "metadata": {},
   "source": [
    "# Question 3 - Acceptance Rejection Sampling"
   ]
  },
  {
   "cell_type": "code",
   "execution_count": 55,
   "metadata": {},
   "outputs": [],
   "source": [
    "import numpy as np\n",
    "import scipy.stats as st\n",
    "import seaborn as sns\n",
    "import matplotlib.pyplot as plt\n",
    "import math"
   ]
  },
  {
   "cell_type": "code",
   "execution_count": 56,
   "metadata": {},
   "outputs": [
    {
     "name": "stdout",
     "output_type": "stream",
     "text": [
      "1000 1242\n"
     ]
    }
   ],
   "source": [
    "i = 0\n",
    "k = 0\n",
    "n = 1000\n",
    "z = np.random.uniform(0,1,n)\n",
    "while i<n:\n",
    "    u = np.random.uniform(0,1,1)\n",
    "    y = np.random.exponential(scale=0.001,size = 1)\n",
    "    k = k+1\n",
    "    if u >= np.sqrt(2/math.pi)*np.exp(-y*2/2):\n",
    "        i = i\n",
    "    else:\n",
    "        z[i] = y*(u < np.sqrt(2/math.pi)*np.exp(-y*2/2))\n",
    "        i += 1\n",
    "        \n",
    "print(i, k)\n",
    "\n"
   ]
  },
  {
   "cell_type": "code",
   "execution_count": 57,
   "metadata": {},
   "outputs": [
    {
     "name": "stdout",
     "output_type": "stream",
     "text": [
      "Bounding Constant is c: 1.242\n"
     ]
    }
   ],
   "source": [
    "# P= P(Y accepted) =1/c\n",
    "P=i/k\n",
    "c = 1/P\n",
    "print(\"Bounding Constant is c:\", c)"
   ]
  },
  {
   "cell_type": "code",
   "execution_count": 58,
   "metadata": {},
   "outputs": [
    {
     "name": "stderr",
     "output_type": "stream",
     "text": [
      "C:\\Users\\anmol\\Anaconda3\\lib\\site-packages\\scipy\\stats\\stats.py:1713: FutureWarning: Using a non-tuple sequence for multidimensional indexing is deprecated; use `arr[tuple(seq)]` instead of `arr[seq]`. In the future this will be interpreted as an array index, `arr[np.array(seq)]`, which will result either in an error or a different result.\n",
      "  return np.add.reduce(sorted[indexer] * weights, axis=axis) / sumval\n"
     ]
    },
    {
     "data": {
      "image/png": "[encoded data removed]",
      "text/plain": [
       "<Figure size 432x288 with 1 Axes>"
      ]
     },
     "metadata": {},
     "output_type": "display_data"
    }
   ],
   "source": [
    "sns.distplot(z, hist = True, kde = True)\n",
    "plt.show()\n"
   ]
  },
  {
   "cell_type": "code",
   "execution_count": 60,
   "metadata": {},
   "outputs": [
    {
     "name": "stdout",
     "output_type": "stream",
     "text": [
      "The expected number of iterations of the algorithm required until an X is successfully generated is exactly the bounding constant C. In particular, we assume that the ratio f(x)/g(x) is bounded by a constant c > 0. And in practice we would want c as close to 1 as possible.\n",
      "C = 1.242\n",
      "λ = scaling parameter i.e scale =0.001 , I have observed that smaller the scale value goes more optimal exponential distribution is generated. So in this case out of all scale values I would consider scale = 0.001 as best parameter for our λ.\n",
      "scale = 0.001\n",
      "The percentage of accepted distributed proposals is the k proposals required to generate i proposals for the distribution and based on that we compute the % of the accepted proposals and we deny points below accepted probability to be the part of the normal distribution hence we obtain the positive normals\n",
      "80.51529790660226\n",
      "The positive normal distribution values are plotted as follow: \n"
     ]
    },
    {
     "name": "stderr",
     "output_type": "stream",
     "text": [
      "C:\\Users\\anmol\\Anaconda3\\lib\\site-packages\\scipy\\stats\\stats.py:1713: FutureWarning: Using a non-tuple sequence for multidimensional indexing is deprecated; use `arr[tuple(seq)]` instead of `arr[seq]`. In the future this will be interpreted as an array index, `arr[np.array(seq)]`, which will result either in an error or a different result.\n",
      "  return np.add.reduce(sorted[indexer] * weights, axis=axis) / sumval\n"
     ]
    },
    {
     "data": {
      "image/png": "[encoded data removed]",
      "text/plain": [
       "<Figure size 432x288 with 1 Axes>"
      ]
     },
     "metadata": {},
     "output_type": "display_data"
    },
    {
     "data": {
      "text/plain": [
       "'\\nAcceptance-Rejection method\\nDenote the density of X by f . This method requires a function g that majorizes f ,\\ng(x) ≥ f (x)\\nfor all x. Now g will not be a density, since\\nc = {-∞, ∞}g(x)dx ≥ 1.\\nAssume that c < ∞. Then h(x) = g(x)/c is a density. Algorithm:\\n1. Generate Y having density h;\\n2. Generate U from U(0, 1), independent of Y ;\\n3. If U ≤ f (Y )/g(Y ), then set X = Y ; else go back to step 1.\\nThe random variable X generated by this algorithm has density f .\\n\\nValidity of the Acceptance-Rejection method\\nNote\\nP(X ≤ x) = P(Y ≤ x|Y accepted).\\nNow,\\nP(Y ≤ x, Y accepted) ={x,−∞}f (y)/g(y)*h(y)dy =1/c*{x,−∞}f (y)dy,\\nand thus, letting x → ∞ gives\\nP(Y accepted) =1/c.\\nHence,\\nP(X ≤ x) =P(Y ≤ x, Y accepted)/P(Y accepted)={x,−∞}f (y)dy.\\n\\nSource=\"https://www.win.tue.nl/~marko/2WB05/lecture8.pdf\"\\n\\n\\nc=sqrt(2e/π)≈1.32.\\nSource =\"https://www.scss.tcd.ie/Brett.Houlding/Domain.sites2/sslides5.pdf\"\\n\\n'"
      ]
     },
     "execution_count": 60,
     "metadata": {},
     "output_type": "execute_result"
    }
   ],
   "source": [
    "\n",
    "\"\"\"\n",
    "Answers:\n",
    "a) Calculate the optimal constant C for acceptance rejection as a function of  λ.\n",
    "\"\"\"\n",
    "print(\"The expected number of iterations of the algorithm required until an X is successfully generated is exactly the bounding constant C. In particular, we assume that the ratio f(x)/g(x) is bounded by a constant c > 0. And in practice we would want c as close to 1 as possible.\")\n",
    "print(\"C =\", c)\n",
    "\n",
    "\"\"\"\n",
    "b) What is the best parameterλ∈(0,∞) you could use for the proposals.\n",
    "\n",
    "\"\"\"\n",
    "print(\"λ = scaling parameter i.e scale =0.001 , I have observed that smaller the scale value goes more optimal exponential distribution is generated. So in this case out of all scale values I would consider scale = 0.001 as best parameter for our λ.\")\n",
    "print(\"scale = 0.001\")\n",
    "\"\"\"\n",
    "c)  Using  the  optimal λ,  how  many  of  the  generated  exponentially  dis-tributed proposals do you expect to \n",
    "    accept (as a percentage)?\n",
    "\"\"\"\n",
    "print(\"The percentage of accepted distributed proposals is the k proposals required to generate i proposals for the distribution and based on that we compute the % of the accepted proposals and we deny points below accepted probability to be the part of the normal distribution hence we obtain the positive normals\")\n",
    "print(100-( (k-i)/k)*100)\n",
    "    \n",
    "\"\"\"\n",
    "d)Write  Python  codes  to  generate  positive  normals  using  the  Accept-Reject Algorithm.\n",
    "\n",
    "\"\"\"\n",
    "print(\"The positive normal distribution values are plotted as follow: \")\n",
    "sns.distplot(z, hist = True, kde = True)\n",
    "plt.show()\n",
    "\n",
    "\n",
    "\n",
    "\n",
    "\"\"\"\n",
    "Acceptance-Rejection method\n",
    "Denote the density of X by f . This method requires a function g that majorizes f ,\n",
    "g(x) ≥ f (x)\n",
    "for all x. Now g will not be a density, since\n",
    "c = {-∞, ∞}g(x)dx ≥ 1.\n",
    "Assume that c < ∞. Then h(x) = g(x)/c is a density. Algorithm:\n",
    "1. Generate Y having density h;\n",
    "2. Generate U from U(0, 1), independent of Y ;\n",
    "3. If U ≤ f (Y )/g(Y ), then set X = Y ; else go back to step 1.\n",
    "The random variable X generated by this algorithm has density f .\n",
    "\n",
    "Validity of the Acceptance-Rejection method\n",
    "Note\n",
    "P(X ≤ x) = P(Y ≤ x|Y accepted).\n",
    "Now,\n",
    "P(Y ≤ x, Y accepted) ={x,−∞}f (y)/g(y)*h(y)dy =1/c*{x,−∞}f (y)dy,\n",
    "and thus, letting x → ∞ gives\n",
    "P(Y accepted) =1/c.\n",
    "Hence,\n",
    "P(X ≤ x) =P(Y ≤ x, Y accepted)/P(Y accepted)={x,−∞}f (y)dy.\n",
    "\n",
    "Source=\"https://www.win.tue.nl/~marko/2WB05/lecture8.pdf\"\n",
    "\n",
    "\n",
    "c=sqrt(2e/π)≈1.32.\n",
    "Source =\"https://www.scss.tcd.ie/Brett.Houlding/Domain.sites2/sslides5.pdf\"\n",
    "\n",
    "\"\"\"\n"
   ]
  },
  {
   "cell_type": "code",
   "execution_count": null,
   "metadata": {},
   "outputs": [],
   "source": []
  },
  {
   "cell_type": "code",
   "execution_count": null,
   "metadata": {},
   "outputs": [],
   "source": []
  },
  {
   "cell_type": "code",
   "execution_count": null,
   "metadata": {},
   "outputs": [],
   "source": []
  }
 ],
 "metadata": {
  "kernelspec": {
   "display_name": "Python 3",
   "language": "python",
   "name": "python3"
  },
  "language_info": {
   "codemirror_mode": {
    "name": "ipython",
    "version": 3
   },
   "file_extension": ".py",
   "mimetype": "text/x-python",
   "name": "python",
   "nbconvert_exporter": "python",
   "pygments_lexer": "ipython3",
   "version": "3.6.5"
  }
 },
 "nbformat": 4,
 "nbformat_minor": 2
}
